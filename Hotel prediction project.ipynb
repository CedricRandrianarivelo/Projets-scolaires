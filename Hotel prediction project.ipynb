{
 "cells": [
  {
   "cell_type": "raw",
   "id": "d431fcf8",
   "metadata": {},
   "source": [
    "# Objectif : Predict the columns Rating based on columns review"
   ]
  },
  {
   "cell_type": "code",
   "execution_count": 1,
   "id": "7e3da725",
   "metadata": {},
   "outputs": [],
   "source": [
    "##https://medium.com/analytics-vidhya/predicting-the-ratings-of-reviews-of-a-hotel-using-machine-learning-bd756e6a9b9b"
   ]
  },
  {
   "cell_type": "raw",
   "id": "3a8bccd7",
   "metadata": {},
   "source": [
    "https://www.youtube.com/watch?v=i3dnv390Sms"
   ]
  },
  {
   "cell_type": "raw",
   "id": "164fd46d",
   "metadata": {},
   "source": [
    "https://www.youtube.com/watch?v=797iq6m64w0"
   ]
  },
  {
   "cell_type": "markdown",
   "id": "1672855b",
   "metadata": {},
   "source": [
    "Prédiction de l'évaluation d'un hôtel à partir d'une critique :\n",
    "\n",
    "Étant donné le jeu de données fourni dans le fichier csv ci-joint, l'objectif est de prédire la colonne 'Rating' en utilisant la colonne 'Review'. La tâche peut être définie comme une régression ou une classification. Les élèves doivent résoudre le problème dans les deux cas : régression et classification. Les étudiants peuvent utiliser la classe scikit-learn CountVectorizer pour transformer les évaluations en vecteurs.\n",
    "\n",
    "Il est recommandé aux élèves de mettre en œuvre deux modèles, une solution d'apprentissage profond basée sur des réseaux neuronaux multicouches, et une autre basée sur l'apprentissage automatique classique (forêt aléatoire ou SVM). Et de comparer les performances des différents modèles.\n",
    "\n",
    "Les étudiants doivent également évaluer correctement leurs modèles par le biais d'une validation croisée aléatoire à cinq volets.\n",
    "\n",
    "Outre la mise en œuvre de solutions permettant de résoudre les tâches, toute analyse supplémentaire peut apporter des points supplémentaires à la note finale. Par exemple, en donnant un aperçu des raisons pour lesquelles les modèles font les prédictions qu'ils font. L'étudiant peut par exemple afficher sous forme de nuage de mots les mots qui déclenchent des évaluations élevées et ceux qui déclenchent des évaluations faibles.\n",
    "\n",
    "Les étudiants ont 10 jours pour travailler sur leur projet et livrer leurs solutions dans un carnet de notes Jupyter que le professeur peut relire. La date limite de livraison est le 27 avril 2022.\n"
   ]
  },
  {
   "cell_type": "markdown",
   "id": "bca1fcb2",
   "metadata": {},
   "source": [
    "# Methode 1 : SVM NLP\n"
   ]
  },
  {
   "cell_type": "markdown",
   "id": "d70eea5c",
   "metadata": {},
   "source": [
    "# Import Data"
   ]
  },
  {
   "cell_type": "code",
   "execution_count": 2,
   "id": "73700762",
   "metadata": {},
   "outputs": [],
   "source": [
    "import pandas as pd"
   ]
  },
  {
   "cell_type": "code",
   "execution_count": 3,
   "id": "ca9aa41f",
   "metadata": {},
   "outputs": [],
   "source": [
    "data=pd.read_csv(\"tripadvisor_hotel_reviews.csv\", sep=',', encoding='latin-1')"
   ]
  },
  {
   "cell_type": "code",
   "execution_count": 4,
   "id": "c5b26cb7",
   "metadata": {},
   "outputs": [
    {
     "data": {
      "text/html": [
       "<div>\n",
       "<style scoped>\n",
       "    .dataframe tbody tr th:only-of-type {\n",
       "        vertical-align: middle;\n",
       "    }\n",
       "\n",
       "    .dataframe tbody tr th {\n",
       "        vertical-align: top;\n",
       "    }\n",
       "\n",
       "    .dataframe thead th {\n",
       "        text-align: right;\n",
       "    }\n",
       "</style>\n",
       "<table border=\"1\" class=\"dataframe\">\n",
       "  <thead>\n",
       "    <tr style=\"text-align: right;\">\n",
       "      <th></th>\n",
       "      <th>Review</th>\n",
       "      <th>Rating</th>\n",
       "    </tr>\n",
       "  </thead>\n",
       "  <tbody>\n",
       "    <tr>\n",
       "      <th>0</th>\n",
       "      <td>nice hotel expensive parking got good deal sta...</td>\n",
       "      <td>4</td>\n",
       "    </tr>\n",
       "    <tr>\n",
       "      <th>1</th>\n",
       "      <td>ok nothing special charge diamond member hilto...</td>\n",
       "      <td>2</td>\n",
       "    </tr>\n",
       "    <tr>\n",
       "      <th>2</th>\n",
       "      <td>nice rooms not 4* experience hotel monaco seat...</td>\n",
       "      <td>3</td>\n",
       "    </tr>\n",
       "    <tr>\n",
       "      <th>3</th>\n",
       "      <td>unique, great stay, wonderful time hotel monac...</td>\n",
       "      <td>5</td>\n",
       "    </tr>\n",
       "    <tr>\n",
       "      <th>4</th>\n",
       "      <td>great stay great stay, went seahawk game aweso...</td>\n",
       "      <td>5</td>\n",
       "    </tr>\n",
       "    <tr>\n",
       "      <th>5</th>\n",
       "      <td>love monaco staff husband stayed hotel crazy w...</td>\n",
       "      <td>5</td>\n",
       "    </tr>\n",
       "    <tr>\n",
       "      <th>6</th>\n",
       "      <td>cozy stay rainy city, husband spent 7 nights m...</td>\n",
       "      <td>5</td>\n",
       "    </tr>\n",
       "    <tr>\n",
       "      <th>7</th>\n",
       "      <td>excellent staff, housekeeping quality hotel ch...</td>\n",
       "      <td>4</td>\n",
       "    </tr>\n",
       "    <tr>\n",
       "      <th>8</th>\n",
       "      <td>hotel stayed hotel monaco cruise, rooms genero...</td>\n",
       "      <td>5</td>\n",
       "    </tr>\n",
       "    <tr>\n",
       "      <th>9</th>\n",
       "      <td>excellent stayed hotel monaco past w/e delight...</td>\n",
       "      <td>5</td>\n",
       "    </tr>\n",
       "  </tbody>\n",
       "</table>\n",
       "</div>"
      ],
      "text/plain": [
       "                                              Review  Rating\n",
       "0  nice hotel expensive parking got good deal sta...       4\n",
       "1  ok nothing special charge diamond member hilto...       2\n",
       "2  nice rooms not 4* experience hotel monaco seat...       3\n",
       "3  unique, great stay, wonderful time hotel monac...       5\n",
       "4  great stay great stay, went seahawk game aweso...       5\n",
       "5  love monaco staff husband stayed hotel crazy w...       5\n",
       "6  cozy stay rainy city, husband spent 7 nights m...       5\n",
       "7  excellent staff, housekeeping quality hotel ch...       4\n",
       "8  hotel stayed hotel monaco cruise, rooms genero...       5\n",
       "9  excellent stayed hotel monaco past w/e delight...       5"
      ]
     },
     "execution_count": 4,
     "metadata": {},
     "output_type": "execute_result"
    }
   ],
   "source": [
    "data.head(10)"
   ]
  },
  {
   "cell_type": "code",
   "execution_count": 5,
   "id": "beb2ecd0",
   "metadata": {},
   "outputs": [
    {
     "data": {
      "text/plain": [
       "(20491, 2)"
      ]
     },
     "execution_count": 5,
     "metadata": {},
     "output_type": "execute_result"
    }
   ],
   "source": [
    "data.shape"
   ]
  },
  {
   "cell_type": "code",
   "execution_count": 6,
   "id": "fa7d04db",
   "metadata": {},
   "outputs": [
    {
     "data": {
      "text/plain": [
       "5    9054\n",
       "4    6039\n",
       "3    2184\n",
       "2    1793\n",
       "1    1421\n",
       "Name: Rating, dtype: int64"
      ]
     },
     "execution_count": 6,
     "metadata": {},
     "output_type": "execute_result"
    }
   ],
   "source": [
    "data['Rating'].value_counts()"
   ]
  },
  {
   "cell_type": "code",
   "execution_count": 7,
   "id": "fe0c8327",
   "metadata": {},
   "outputs": [
    {
     "name": "stdout",
     "output_type": "stream",
     "text": [
      "20491\n"
     ]
    }
   ],
   "source": [
    "print(len(data))"
   ]
  },
  {
   "cell_type": "code",
   "execution_count": 8,
   "id": "b1165948",
   "metadata": {},
   "outputs": [],
   "source": [
    "X=data['Review']\n",
    "Y=data['Rating']"
   ]
  },
  {
   "cell_type": "code",
   "execution_count": 9,
   "id": "a5f02bd5",
   "metadata": {},
   "outputs": [],
   "source": [
    "##"
   ]
  },
  {
   "cell_type": "markdown",
   "id": "5e58d28b",
   "metadata": {},
   "source": [
    "# Split Training and test set"
   ]
  },
  {
   "cell_type": "code",
   "execution_count": 10,
   "id": "c809419c",
   "metadata": {},
   "outputs": [],
   "source": [
    "from sklearn.model_selection import train_test_split\n",
    "from sklearn.feature_extraction.text import CountVectorizer"
   ]
  },
  {
   "cell_type": "code",
   "execution_count": 11,
   "id": "d290a82b",
   "metadata": {},
   "outputs": [],
   "source": [
    "def split (y = \"Y\", x= \"X\"):\n",
    "\n",
    "    x_train, x_test, y_train, y_test = train_test_split(X,Y, test_size = 0.2)\n",
    "    \n",
    "    return {'x_train' : x_train, 'x_test' : x_test, 'y_train' : y_train, 'y_test' : y_test}"
   ]
  },
  {
   "cell_type": "code",
   "execution_count": 12,
   "id": "a9f4cf0b",
   "metadata": {},
   "outputs": [],
   "source": [
    "Data_split=split()\n",
    "x_train=Data_split[\"x_train\"]\n",
    "x_test=Data_split[\"x_test\"]\n",
    "\n",
    "y_train=Data_split[\"y_train\"]\n",
    "y_test=Data_split[\"y_test\"]"
   ]
  },
  {
   "cell_type": "code",
   "execution_count": 13,
   "id": "f94e1719",
   "metadata": {},
   "outputs": [
    {
     "name": "stdout",
     "output_type": "stream",
     "text": [
      "x_train (16392,)\n",
      "x_test (4099,)\n",
      "y_train (16392,)\n",
      "y_test (4099,)\n"
     ]
    }
   ],
   "source": [
    "print(\"x_train\", x_train.shape)\n",
    "print(\"x_test\", x_test.shape)\n",
    "print(\"y_train\", y_train.shape)\n",
    "print(\"y_test\", y_test.shape)"
   ]
  },
  {
   "cell_type": "code",
   "execution_count": 33,
   "id": "de06934e",
   "metadata": {},
   "outputs": [],
   "source": [
    "Vector = CountVectorizer()\n",
    "vector_x_train = Vector.fit_transform(x_train)\n",
    "vector_x_test = Vector.transform(x_test)\n",
    "\n"
   ]
  },
  {
   "cell_type": "code",
   "execution_count": 15,
   "id": "038f9dc8",
   "metadata": {},
   "outputs": [
    {
     "data": {
      "text/plain": [
       "<4099x47072 sparse matrix of type '<class 'numpy.int64'>'\n",
       "\twith 329411 stored elements in Compressed Sparse Row format>"
      ]
     },
     "execution_count": 15,
     "metadata": {},
     "output_type": "execute_result"
    }
   ],
   "source": [
    "vector_x_test"
   ]
  },
  {
   "cell_type": "code",
   "execution_count": 16,
   "id": "bef34e50",
   "metadata": {},
   "outputs": [
    {
     "data": {
      "text/plain": [
       "<16392x47072 sparse matrix of type '<class 'numpy.int64'>'\n",
       "\twith 1371401 stored elements in Compressed Sparse Row format>"
      ]
     },
     "execution_count": 16,
     "metadata": {},
     "output_type": "execute_result"
    }
   ],
   "source": [
    "vector_x_train"
   ]
  },
  {
   "cell_type": "markdown",
   "id": "7278af7c",
   "metadata": {},
   "source": [
    "# Classification Model"
   ]
  },
  {
   "cell_type": "code",
   "execution_count": 17,
   "id": "b3cf111b",
   "metadata": {},
   "outputs": [],
   "source": [
    "from sklearn import svm"
   ]
  },
  {
   "cell_type": "code",
   "execution_count": 18,
   "id": "51b0078c",
   "metadata": {},
   "outputs": [
    {
     "data": {
      "text/plain": [
       "SVC(kernel='linear')"
      ]
     },
     "execution_count": 18,
     "metadata": {},
     "output_type": "execute_result"
    }
   ],
   "source": [
    "clf_svm=svm.SVC(kernel = \"linear\")\n",
    "clf_svm.fit(vector_x_train,y_train)"
   ]
  },
  {
   "cell_type": "markdown",
   "id": "eae34478",
   "metadata": {},
   "source": [
    "# Metrics Method 1"
   ]
  },
  {
   "cell_type": "code",
   "execution_count": 19,
   "id": "0b2d63cc",
   "metadata": {},
   "outputs": [
    {
     "data": {
      "text/plain": [
       "0.5584288850939253"
      ]
     },
     "execution_count": 19,
     "metadata": {},
     "output_type": "execute_result"
    }
   ],
   "source": [
    "clf_svm.score(vector_x_test,y_test)"
   ]
  },
  {
   "cell_type": "code",
   "execution_count": 59,
   "id": "819cc512",
   "metadata": {},
   "outputs": [
    {
     "data": {
      "text/plain": [
       "SVC(kernel='linear')"
      ]
     },
     "execution_count": 59,
     "metadata": {},
     "output_type": "execute_result"
    }
   ],
   "source": [
    "clf_svm"
   ]
  },
  {
   "cell_type": "markdown",
   "id": "feccd92d",
   "metadata": {},
   "source": [
    "# Test the model"
   ]
  },
  {
   "cell_type": "code",
   "execution_count": 20,
   "id": "89fc6b08",
   "metadata": {},
   "outputs": [
    {
     "data": {
      "text/plain": [
       "array([0.67323481, 0.35400908, 0.31277533, 0.44707875, 0.70913067])"
      ]
     },
     "execution_count": 20,
     "metadata": {},
     "output_type": "execute_result"
    }
   ],
   "source": [
    "from sklearn.metrics import f1_score\n",
    "f1_score(y_test,clf_svm.predict(vector_x_test),average = None )"
   ]
  },
  {
   "cell_type": "code",
   "execution_count": 73,
   "id": "7105dbec",
   "metadata": {},
   "outputs": [],
   "source": [
    "comments_neg=[\"The stay at the hotel was really detestable, I do not recommend it!\"]\n",
    "comments_pos=[\"A great hotel! I recommend it.\"]\n",
    "comments_neutre=[\"It's ok, it could be better\"]"
   ]
  },
  {
   "cell_type": "code",
   "execution_count": 74,
   "id": "34869a69",
   "metadata": {},
   "outputs": [
    {
     "data": {
      "text/plain": [
       "array([1], dtype=int64)"
      ]
     },
     "execution_count": 74,
     "metadata": {},
     "output_type": "execute_result"
    }
   ],
   "source": [
    "comments_neg=Vector.transform(comments_neg)\n",
    "clf_svm.predict(comments_neg)"
   ]
  },
  {
   "cell_type": "code",
   "execution_count": 75,
   "id": "f7b91e0e",
   "metadata": {},
   "outputs": [
    {
     "data": {
      "text/plain": [
       "array([5], dtype=int64)"
      ]
     },
     "execution_count": 75,
     "metadata": {},
     "output_type": "execute_result"
    }
   ],
   "source": [
    "comments_pos=Vector.transform(comments_pos)\n",
    "clf_svm.predict(comments_pos)"
   ]
  },
  {
   "cell_type": "code",
   "execution_count": 76,
   "id": "76262bd6",
   "metadata": {},
   "outputs": [
    {
     "data": {
      "text/plain": [
       "array([3], dtype=int64)"
      ]
     },
     "execution_count": 76,
     "metadata": {},
     "output_type": "execute_result"
    }
   ],
   "source": [
    "comments_neutre=Vector.transform(comments_neutre)\n",
    "clf_svm.predict(comments_neutre)"
   ]
  },
  {
   "cell_type": "markdown",
   "id": "fa4cd5c7",
   "metadata": {},
   "source": [
    "## Method 2 MLP"
   ]
  },
  {
   "cell_type": "code",
   "execution_count": null,
   "id": "f7a81a5b",
   "metadata": {},
   "outputs": [],
   "source": [
    "##https://scikit-learn.org/stable/modules/generated/sklearn.neural_network.MLPClassifier.html"
   ]
  },
  {
   "cell_type": "code",
   "execution_count": 26,
   "id": "259d3dff",
   "metadata": {},
   "outputs": [],
   "source": [
    "from sklearn.neural_network import MLPClassifier"
   ]
  },
  {
   "cell_type": "code",
   "execution_count": 39,
   "id": "1ad49df5",
   "metadata": {},
   "outputs": [
    {
     "data": {
      "text/plain": [
       "MLPClassifier(learning_rate_init=0.01, max_iter=100)"
      ]
     },
     "execution_count": 39,
     "metadata": {},
     "output_type": "execute_result"
    }
   ],
   "source": [
    "mlp = MLPClassifier(max_iter=100, learning_rate = 'constant', learning_rate_init = 0.01,  activation='relu')\n",
    "mlp"
   ]
  },
  {
   "cell_type": "code",
   "execution_count": 40,
   "id": "64cdacf1",
   "metadata": {},
   "outputs": [
    {
     "data": {
      "text/plain": [
       "MLPClassifier(learning_rate_init=0.01, max_iter=100)"
      ]
     },
     "execution_count": 40,
     "metadata": {},
     "output_type": "execute_result"
    }
   ],
   "source": [
    "mlp.fit(vector_x_train,y_train)"
   ]
  },
  {
   "cell_type": "code",
   "execution_count": 69,
   "id": "62595719",
   "metadata": {},
   "outputs": [
    {
     "data": {
      "text/plain": [
       "array([5, 1, 4, ..., 4, 5, 1], dtype=int64)"
      ]
     },
     "execution_count": 69,
     "metadata": {},
     "output_type": "execute_result"
    }
   ],
   "source": [
    "pred = mlp.predict(vector_x_test)\n",
    "pred"
   ]
  },
  {
   "cell_type": "code",
   "execution_count": 62,
   "id": "4fa5d97a",
   "metadata": {},
   "outputs": [
    {
     "data": {
      "text/plain": [
       "<4099x47072 sparse matrix of type '<class 'numpy.int64'>'\n",
       "\twith 329411 stored elements in Compressed Sparse Row format>"
      ]
     },
     "execution_count": 62,
     "metadata": {},
     "output_type": "execute_result"
    }
   ],
   "source": [
    "vector_x_test"
   ]
  },
  {
   "cell_type": "markdown",
   "id": "328279ce",
   "metadata": {},
   "source": [
    "# Test Method 2"
   ]
  },
  {
   "cell_type": "code",
   "execution_count": 68,
   "id": "280b2518",
   "metadata": {},
   "outputs": [
    {
     "data": {
      "text/plain": [
       "array([1], dtype=int64)"
      ]
     },
     "execution_count": 68,
     "metadata": {},
     "output_type": "execute_result"
    }
   ],
   "source": [
    "pred_neg = mlp.predict(comments_neg)\n",
    "pred_neg"
   ]
  },
  {
   "cell_type": "code",
   "execution_count": 77,
   "id": "ef9c5947",
   "metadata": {},
   "outputs": [
    {
     "data": {
      "text/plain": [
       "array([5], dtype=int64)"
      ]
     },
     "execution_count": 77,
     "metadata": {},
     "output_type": "execute_result"
    }
   ],
   "source": [
    "pred_pos = mlp.predict(comments_pos)\n",
    "pred_pos"
   ]
  },
  {
   "cell_type": "code",
   "execution_count": 81,
   "id": "b0351bcf",
   "metadata": {},
   "outputs": [
    {
     "data": {
      "text/plain": [
       "array([5], dtype=int64)"
      ]
     },
     "execution_count": 81,
     "metadata": {},
     "output_type": "execute_result"
    }
   ],
   "source": [
    "pred_pos = mlp.predict(comments_pos)\n",
    "pred_pos"
   ]
  },
  {
   "cell_type": "code",
   "execution_count": 82,
   "id": "9bc1e34a",
   "metadata": {},
   "outputs": [
    {
     "data": {
      "text/plain": [
       "array([3], dtype=int64)"
      ]
     },
     "execution_count": 82,
     "metadata": {},
     "output_type": "execute_result"
    }
   ],
   "source": [
    "pred_neutral = mlp.predict(comments_neutre)\n",
    "pred_neutral"
   ]
  },
  {
   "cell_type": "code",
   "execution_count": 63,
   "id": "936fbfa4",
   "metadata": {},
   "outputs": [
    {
     "data": {
      "text/plain": [
       "<1x47072 sparse matrix of type '<class 'numpy.int64'>'\n",
       "\twith 10 stored elements in Compressed Sparse Row format>"
      ]
     },
     "execution_count": 63,
     "metadata": {},
     "output_type": "execute_result"
    }
   ],
   "source": [
    "comments_neg"
   ]
  },
  {
   "cell_type": "markdown",
   "id": "b9126cfa",
   "metadata": {},
   "source": [
    "# Metric Method 2"
   ]
  },
  {
   "cell_type": "code",
   "execution_count": 60,
   "id": "d2f1d48a",
   "metadata": {},
   "outputs": [
    {
     "data": {
      "text/plain": [
       "array([[ 196,   63,   15,   10,    4],\n",
       "       [  65,  128,   70,   31,   21],\n",
       "       [  10,   85,  138,  146,   33],\n",
       "       [   4,   26,  132,  565,  506],\n",
       "       [   4,    8,   34,  392, 1413]], dtype=int64)"
      ]
     },
     "execution_count": 60,
     "metadata": {},
     "output_type": "execute_result"
    }
   ],
   "source": [
    "from sklearn.metrics import classification_report,confusion_matrix\n",
    "\n",
    "confusion_matrix(y_test,pred)"
   ]
  },
  {
   "cell_type": "code",
   "execution_count": 61,
   "id": "91d8a517",
   "metadata": {},
   "outputs": [
    {
     "name": "stdout",
     "output_type": "stream",
     "text": [
      "              precision    recall  f1-score   support\n",
      "\n",
      "           1       0.70      0.68      0.69       288\n",
      "           2       0.41      0.41      0.41       315\n",
      "           3       0.35      0.33      0.34       412\n",
      "           4       0.49      0.46      0.48      1233\n",
      "           5       0.71      0.76      0.74      1851\n",
      "\n",
      "    accuracy                           0.60      4099\n",
      "   macro avg       0.54      0.53      0.53      4099\n",
      "weighted avg       0.59      0.60      0.59      4099\n",
      "\n"
     ]
    }
   ],
   "source": [
    "print(classification_report(y_test,pred))"
   ]
  },
  {
   "cell_type": "markdown",
   "id": "3420b9c0",
   "metadata": {},
   "source": [
    "# Word Cloud"
   ]
  },
  {
   "cell_type": "code",
   "execution_count": 25,
   "id": "dcc2e5d5",
   "metadata": {},
   "outputs": [
    {
     "ename": "ModuleNotFoundError",
     "evalue": "No module named 'wordcloud'",
     "output_type": "error",
     "traceback": [
      "\u001b[1;31m---------------------------------------------------------------------------\u001b[0m",
      "\u001b[1;31mModuleNotFoundError\u001b[0m                       Traceback (most recent call last)",
      "\u001b[1;32m~\\AppData\\Local\\Temp/ipykernel_20512/3832384470.py\u001b[0m in \u001b[0;36m<module>\u001b[1;34m\u001b[0m\n\u001b[0;32m      1\u001b[0m \u001b[1;32mfrom\u001b[0m \u001b[0mnltk\u001b[0m\u001b[1;33m.\u001b[0m\u001b[0mcorpus\u001b[0m \u001b[1;32mimport\u001b[0m \u001b[0mstopwords\u001b[0m\u001b[1;33m\u001b[0m\u001b[1;33m\u001b[0m\u001b[0m\n\u001b[1;32m----> 2\u001b[1;33m \u001b[1;32mfrom\u001b[0m \u001b[0mwordcloud\u001b[0m \u001b[1;32mimport\u001b[0m \u001b[0mWordCloud\u001b[0m\u001b[1;33m,\u001b[0m\u001b[0mSTOPWORDS\u001b[0m\u001b[1;33m\u001b[0m\u001b[1;33m\u001b[0m\u001b[0m\n\u001b[0m\u001b[0;32m      3\u001b[0m \u001b[1;32mfrom\u001b[0m \u001b[0mtensorflow\u001b[0m\u001b[1;33m.\u001b[0m\u001b[0mkeras\u001b[0m\u001b[1;33m.\u001b[0m\u001b[0mutils\u001b[0m \u001b[1;32mimport\u001b[0m \u001b[0mto_categorical\u001b[0m\u001b[1;33m\u001b[0m\u001b[1;33m\u001b[0m\u001b[0m\n\u001b[0;32m      4\u001b[0m \u001b[1;32mimport\u001b[0m \u001b[0mmatplotlib\u001b[0m\u001b[1;33m.\u001b[0m\u001b[0mpyplot\u001b[0m \u001b[1;32mas\u001b[0m \u001b[0mplt\u001b[0m\u001b[1;33m\u001b[0m\u001b[1;33m\u001b[0m\u001b[0m\n\u001b[0;32m      5\u001b[0m \u001b[1;32mimport\u001b[0m \u001b[0mstring\u001b[0m\u001b[1;33m\u001b[0m\u001b[1;33m\u001b[0m\u001b[0m\n",
      "\u001b[1;31mModuleNotFoundError\u001b[0m: No module named 'wordcloud'"
     ]
    }
   ],
   "source": [
    "\n",
    "from nltk.corpus import stopwords\n",
    "from wordcloud import WordCloud,STOPWORDS\n",
    "from tensorflow.keras.utils import to_categorical\n",
    "import matplotlib.pyplot as plt\n",
    "import string"
   ]
  },
  {
   "cell_type": "code",
   "execution_count": null,
   "id": "191722f3",
   "metadata": {},
   "outputs": [],
   "source": [
    "!pip install wordcloud"
   ]
  },
  {
   "cell_type": "code",
   "execution_count": null,
   "id": "363d84ce",
   "metadata": {},
   "outputs": [],
   "source": [
    "def wordCloud_generator(data, title=None):\n",
    "    wordcloud = WordCloud(width = 800, height = 800,\n",
    "                          background_color ='black',\n",
    "                          min_font_size = 10\n",
    "                         ).generate(\" \".join(data.values))                      \n",
    "    plt.figure(figsize = (8, 8), facecolor = None) \n",
    "    plt.imshow(wordcloud, interpolation='bilinear') \n",
    "    plt.axis(\"off\") \n",
    "    plt.tight_layout(pad = 0) \n",
    "    plt.title(title,fontsize=30)\n",
    "    plt.show()\n",
    "wordCloud_generator(data['Review'], title=\"Top words in reviews\")"
   ]
  },
  {
   "cell_type": "markdown",
   "id": "43ab6f3c",
   "metadata": {},
   "source": [
    "# Method 2 Réseau de neurones"
   ]
  },
  {
   "cell_type": "code",
   "execution_count": null,
   "id": "2d8bd6ce",
   "metadata": {},
   "outputs": [],
   "source": []
  }
 ],
 "metadata": {
  "kernelspec": {
   "display_name": "Python 3 (ipykernel)",
   "language": "python",
   "name": "python3"
  },
  "language_info": {
   "codemirror_mode": {
    "name": "ipython",
    "version": 3
   },
   "file_extension": ".py",
   "mimetype": "text/x-python",
   "name": "python",
   "nbconvert_exporter": "python",
   "pygments_lexer": "ipython3",
   "version": "3.9.7"
  }
 },
 "nbformat": 4,
 "nbformat_minor": 5
}
