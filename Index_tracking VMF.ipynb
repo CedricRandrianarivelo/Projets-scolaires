{
 "cells": [
  {
   "cell_type": "markdown",
   "id": "0c498485",
   "metadata": {},
   "source": [
    "# Library"
   ]
  },
  {
   "cell_type": "code",
   "execution_count": 1,
   "id": "fe13a532",
   "metadata": {},
   "outputs": [],
   "source": [
    "import numpy as np\n",
    "import pandas as pd\n",
    "import random \n",
    "import tensorflow as tf\n",
    "from sklearn.model_selection import train_test_split\n",
    "import warnings\n",
    "warnings.filterwarnings('ignore')"
   ]
  },
  {
   "cell_type": "markdown",
   "id": "516ec88a",
   "metadata": {},
   "source": [
    "# Data"
   ]
  },
  {
   "cell_type": "code",
   "execution_count": 2,
   "id": "ede7b378",
   "metadata": {},
   "outputs": [],
   "source": [
    "def load_data(path = 'sp500_final.xlsx') :\n",
    "    \n",
    "    \"\"\"\n",
    "    This function load the dataset\n",
    "    \"\"\"\n",
    "    \n",
    "    df = pd.read_excel(path)\n",
    "    # drop the column with date\n",
    "    df.drop('Unnamed: 0', axis = 1, inplace = True)\n",
    "    return df"
   ]
  },
  {
   "cell_type": "code",
   "execution_count": 3,
   "id": "28482679",
   "metadata": {},
   "outputs": [
    {
     "name": "stdout",
     "output_type": "stream",
     "text": [
      "The dataset have 1259 lines 477 columns\n"
     ]
    }
   ],
   "source": [
    "df_SP500 = load_data()\n",
    "print('The dataset have ' + str(df_SP500.shape[0]) + \" lines \" + str(df_SP500.shape[1]) + \" columns\")"
   ]
  },
  {
   "cell_type": "code",
   "execution_count": 4,
   "id": "731ff37d",
   "metadata": {},
   "outputs": [],
   "source": [
    "def process_data(df = df_SP500) :\n",
    "    \"\"\"\n",
    "    Process the dataframe\n",
    "    \"\"\"\n",
    "    # Replace null value by the previous one\n",
    "    df= df.fillna(method='ffill')\n",
    "    # Replace null value by 0\n",
    "    #df.fillna(0, inplace = True)\n",
    "    df.dropna(axis=1, inplace=True)\n",
    "    df_SP500.dropna(axis=1, inplace = True)\n",
    "    # Change the type of SP500 to numeric\n",
    "    df['SP500'] = pd.to_numeric(df['SP500'],errors='coerce')\n",
    "    return df"
   ]
  },
  {
   "cell_type": "code",
   "execution_count": 5,
   "id": "8978f69d",
   "metadata": {},
   "outputs": [],
   "source": [
    "df_SP500 = process_data()"
   ]
  },
  {
   "cell_type": "code",
   "execution_count": 6,
   "id": "5ccf2ec2",
   "metadata": {},
   "outputs": [
    {
     "data": {
      "text/html": [
       "<div>\n",
       "<style scoped>\n",
       "    .dataframe tbody tr th:only-of-type {\n",
       "        vertical-align: middle;\n",
       "    }\n",
       "\n",
       "    .dataframe tbody tr th {\n",
       "        vertical-align: top;\n",
       "    }\n",
       "\n",
       "    .dataframe thead th {\n",
       "        text-align: right;\n",
       "    }\n",
       "</style>\n",
       "<table border=\"1\" class=\"dataframe\">\n",
       "  <thead>\n",
       "    <tr style=\"text-align: right;\">\n",
       "      <th></th>\n",
       "      <th>SP500</th>\n",
       "      <th>MMM</th>\n",
       "      <th>AOS</th>\n",
       "      <th>ABT</th>\n",
       "      <th>ABBV</th>\n",
       "      <th>ABMD</th>\n",
       "      <th>ACN</th>\n",
       "      <th>ATVI</th>\n",
       "      <th>ADBE</th>\n",
       "      <th>AAP</th>\n",
       "      <th>...</th>\n",
       "      <th>WMB</th>\n",
       "      <th>WYNN</th>\n",
       "      <th>XEL</th>\n",
       "      <th>XRX</th>\n",
       "      <th>XLNX</th>\n",
       "      <th>XYL</th>\n",
       "      <th>YUM</th>\n",
       "      <th>ZBRA</th>\n",
       "      <th>ZBH</th>\n",
       "      <th>ZION</th>\n",
       "    </tr>\n",
       "  </thead>\n",
       "  <tbody>\n",
       "    <tr>\n",
       "      <th>0</th>\n",
       "      <td>1462.42</td>\n",
       "      <td>84.319835</td>\n",
       "      <td>15.253797</td>\n",
       "      <td>28.796655</td>\n",
       "      <td>29.375119</td>\n",
       "      <td>13.6900</td>\n",
       "      <td>61.870948</td>\n",
       "      <td>10.445002</td>\n",
       "      <td>38.34</td>\n",
       "      <td>71.832049</td>\n",
       "      <td>...</td>\n",
       "      <td>26.360638</td>\n",
       "      <td>102.828047</td>\n",
       "      <td>23.082288</td>\n",
       "      <td>25.542926</td>\n",
       "      <td>32.872246</td>\n",
       "      <td>25.553543</td>\n",
       "      <td>43.440158</td>\n",
       "      <td>40.9600</td>\n",
       "      <td>64.964546</td>\n",
       "      <td>21.255891</td>\n",
       "    </tr>\n",
       "    <tr>\n",
       "      <th>1</th>\n",
       "      <td>1459.37</td>\n",
       "      <td>84.221975</td>\n",
       "      <td>15.015346</td>\n",
       "      <td>29.892814</td>\n",
       "      <td>29.132557</td>\n",
       "      <td>13.4500</td>\n",
       "      <td>61.646973</td>\n",
       "      <td>10.507033</td>\n",
       "      <td>37.75</td>\n",
       "      <td>71.832049</td>\n",
       "      <td>...</td>\n",
       "      <td>26.159234</td>\n",
       "      <td>103.934100</td>\n",
       "      <td>23.014845</td>\n",
       "      <td>25.542926</td>\n",
       "      <td>32.810206</td>\n",
       "      <td>25.469914</td>\n",
       "      <td>43.711821</td>\n",
       "      <td>41.0000</td>\n",
       "      <td>65.895354</td>\n",
       "      <td>21.284889</td>\n",
       "    </tr>\n",
       "    <tr>\n",
       "      <th>2</th>\n",
       "      <td>1466.47</td>\n",
       "      <td>84.844721</td>\n",
       "      <td>15.178248</td>\n",
       "      <td>29.713116</td>\n",
       "      <td>28.765200</td>\n",
       "      <td>13.4100</td>\n",
       "      <td>61.987415</td>\n",
       "      <td>10.659724</td>\n",
       "      <td>38.13</td>\n",
       "      <td>72.951792</td>\n",
       "      <td>...</td>\n",
       "      <td>26.445847</td>\n",
       "      <td>105.188206</td>\n",
       "      <td>23.099148</td>\n",
       "      <td>25.258721</td>\n",
       "      <td>32.349339</td>\n",
       "      <td>25.432745</td>\n",
       "      <td>44.190464</td>\n",
       "      <td>40.6716</td>\n",
       "      <td>66.231211</td>\n",
       "      <td>21.893857</td>\n",
       "    </tr>\n",
       "    <tr>\n",
       "      <th>3</th>\n",
       "      <td>1461.89</td>\n",
       "      <td>84.951478</td>\n",
       "      <td>15.010624</td>\n",
       "      <td>29.955709</td>\n",
       "      <td>28.823081</td>\n",
       "      <td>13.2495</td>\n",
       "      <td>61.718645</td>\n",
       "      <td>10.669267</td>\n",
       "      <td>37.94</td>\n",
       "      <td>72.704061</td>\n",
       "      <td>...</td>\n",
       "      <td>26.329652</td>\n",
       "      <td>105.545279</td>\n",
       "      <td>22.854668</td>\n",
       "      <td>25.685028</td>\n",
       "      <td>32.216397</td>\n",
       "      <td>25.098226</td>\n",
       "      <td>43.912334</td>\n",
       "      <td>40.9000</td>\n",
       "      <td>66.394347</td>\n",
       "      <td>21.787530</td>\n",
       "    </tr>\n",
       "    <tr>\n",
       "      <th>4</th>\n",
       "      <td>1457.15</td>\n",
       "      <td>84.960374</td>\n",
       "      <td>15.296293</td>\n",
       "      <td>29.964694</td>\n",
       "      <td>28.195765</td>\n",
       "      <td>13.2100</td>\n",
       "      <td>62.077006</td>\n",
       "      <td>10.487947</td>\n",
       "      <td>38.14</td>\n",
       "      <td>71.514953</td>\n",
       "      <td>...</td>\n",
       "      <td>26.004308</td>\n",
       "      <td>105.454095</td>\n",
       "      <td>22.896820</td>\n",
       "      <td>25.649503</td>\n",
       "      <td>31.560547</td>\n",
       "      <td>24.791583</td>\n",
       "      <td>42.068908</td>\n",
       "      <td>40.9300</td>\n",
       "      <td>66.490305</td>\n",
       "      <td>21.352552</td>\n",
       "    </tr>\n",
       "  </tbody>\n",
       "</table>\n",
       "<p>5 rows × 446 columns</p>\n",
       "</div>"
      ],
      "text/plain": [
       "     SP500        MMM        AOS        ABT       ABBV     ABMD        ACN  \\\n",
       "0  1462.42  84.319835  15.253797  28.796655  29.375119  13.6900  61.870948   \n",
       "1  1459.37  84.221975  15.015346  29.892814  29.132557  13.4500  61.646973   \n",
       "2  1466.47  84.844721  15.178248  29.713116  28.765200  13.4100  61.987415   \n",
       "3  1461.89  84.951478  15.010624  29.955709  28.823081  13.2495  61.718645   \n",
       "4  1457.15  84.960374  15.296293  29.964694  28.195765  13.2100  62.077006   \n",
       "\n",
       "        ATVI   ADBE        AAP  ...        WMB        WYNN        XEL  \\\n",
       "0  10.445002  38.34  71.832049  ...  26.360638  102.828047  23.082288   \n",
       "1  10.507033  37.75  71.832049  ...  26.159234  103.934100  23.014845   \n",
       "2  10.659724  38.13  72.951792  ...  26.445847  105.188206  23.099148   \n",
       "3  10.669267  37.94  72.704061  ...  26.329652  105.545279  22.854668   \n",
       "4  10.487947  38.14  71.514953  ...  26.004308  105.454095  22.896820   \n",
       "\n",
       "         XRX       XLNX        XYL        YUM     ZBRA        ZBH       ZION  \n",
       "0  25.542926  32.872246  25.553543  43.440158  40.9600  64.964546  21.255891  \n",
       "1  25.542926  32.810206  25.469914  43.711821  41.0000  65.895354  21.284889  \n",
       "2  25.258721  32.349339  25.432745  44.190464  40.6716  66.231211  21.893857  \n",
       "3  25.685028  32.216397  25.098226  43.912334  40.9000  66.394347  21.787530  \n",
       "4  25.649503  31.560547  24.791583  42.068908  40.9300  66.490305  21.352552  \n",
       "\n",
       "[5 rows x 446 columns]"
      ]
     },
     "execution_count": 6,
     "metadata": {},
     "output_type": "execute_result"
    }
   ],
   "source": [
    "df_SP500.head(5)"
   ]
  },
  {
   "cell_type": "code",
   "execution_count": 7,
   "id": "616e549d",
   "metadata": {},
   "outputs": [],
   "source": [
    "def split_df(df, target = 'SP500'):\n",
    "    \"\"\"\n",
    "    Inputs : Dataframe and the name of the target column set by default to SP550\n",
    "    Output : dictionary of 4 DataFrames with keys : x_train,y_train,  x_test, y_test\n",
    "    \n",
    "    \"\"\"\n",
    "    \n",
    "    # Create features and target\n",
    "    x = df.drop(target, axis = 1)\n",
    "    y = df[[target]].values\n",
    "\n",
    "    # Echantillon de test (20%) et train (80%)\n",
    "    x_train, x_test, y_train, y_test = train_test_split(x, y, test_size = 0.2 , random_state = 100, shuffle=False)\n",
    "    \n",
    "    return {'x_train' : x_train, 'x_test' : x_test, 'y_train' : y_train, 'y_test' : y_test}"
   ]
  },
  {
   "cell_type": "code",
   "execution_count": 8,
   "id": "94a75c86",
   "metadata": {},
   "outputs": [],
   "source": [
    "# for example if we want get x_train \n",
    "x_train = split_df(df_SP500)['x_train']"
   ]
  },
  {
   "cell_type": "markdown",
   "id": "8bdbf087",
   "metadata": {},
   "source": [
    "# Select randomly K assets from index assets"
   ]
  },
  {
   "cell_type": "code",
   "execution_count": 9,
   "id": "8fb30d7e",
   "metadata": {},
   "outputs": [],
   "source": [
    "# We fix the seed in order to have the same result\n",
    "np.random.seed(100)\n",
    "# We choose randomly 50 assets\n",
    "random_columns = np.random.choice(df_SP500.columns[1:], size=50, replace=False)\n",
    "# We get the value of these fifty assets\n",
    "df_random_asset1_ = df_SP500[random_columns]\n",
    "\n",
    "# selected sparse portfolio's asset returns\n",
    "df_random_asset1 = df_random_asset1_.pct_change()\n",
    "\n",
    "# Add the target columns SP500 in the dataframe with 50 assets\n",
    "df_random_asset1['SP500'] = df_SP500['SP500']"
   ]
  },
  {
   "cell_type": "code",
   "execution_count": 10,
   "id": "351008fe",
   "metadata": {},
   "outputs": [],
   "source": [
    "# Drop the first line with NaN valus\n",
    "df_random_asset = df_random_asset1[1 :]"
   ]
  },
  {
   "cell_type": "code",
   "execution_count": 11,
   "id": "c6d82dda",
   "metadata": {},
   "outputs": [
    {
     "data": {
      "text/html": [
       "<div>\n",
       "<style scoped>\n",
       "    .dataframe tbody tr th:only-of-type {\n",
       "        vertical-align: middle;\n",
       "    }\n",
       "\n",
       "    .dataframe tbody tr th {\n",
       "        vertical-align: top;\n",
       "    }\n",
       "\n",
       "    .dataframe thead th {\n",
       "        text-align: right;\n",
       "    }\n",
       "</style>\n",
       "<table border=\"1\" class=\"dataframe\">\n",
       "  <thead>\n",
       "    <tr style=\"text-align: right;\">\n",
       "      <th></th>\n",
       "      <th>RJF</th>\n",
       "      <th>UHS</th>\n",
       "      <th>FISV</th>\n",
       "      <th>STX</th>\n",
       "      <th>DISCA</th>\n",
       "      <th>GOOGL</th>\n",
       "      <th>CBOE</th>\n",
       "      <th>MO</th>\n",
       "      <th>HBI</th>\n",
       "      <th>CMS</th>\n",
       "      <th>...</th>\n",
       "      <th>CAG</th>\n",
       "      <th>JPM</th>\n",
       "      <th>SYY</th>\n",
       "      <th>SLB</th>\n",
       "      <th>DLR</th>\n",
       "      <th>AVY</th>\n",
       "      <th>FLS</th>\n",
       "      <th>MS</th>\n",
       "      <th>TGT</th>\n",
       "      <th>SP500</th>\n",
       "    </tr>\n",
       "  </thead>\n",
       "  <tbody>\n",
       "    <tr>\n",
       "      <th>1</th>\n",
       "      <td>-0.003502</td>\n",
       "      <td>0.003019</td>\n",
       "      <td>-0.007505</td>\n",
       "      <td>-0.017797</td>\n",
       "      <td>0.000764</td>\n",
       "      <td>0.000581</td>\n",
       "      <td>0.013276</td>\n",
       "      <td>0.000615</td>\n",
       "      <td>0.016297</td>\n",
       "      <td>0.002821</td>\n",
       "      <td>...</td>\n",
       "      <td>-0.002326</td>\n",
       "      <td>-0.002015</td>\n",
       "      <td>-0.004389</td>\n",
       "      <td>-0.006723</td>\n",
       "      <td>-0.004072</td>\n",
       "      <td>0.007046</td>\n",
       "      <td>0.002039</td>\n",
       "      <td>-0.002039</td>\n",
       "      <td>0.022781</td>\n",
       "      <td>1459.37</td>\n",
       "    </tr>\n",
       "    <tr>\n",
       "      <th>2</th>\n",
       "      <td>0.026857</td>\n",
       "      <td>0.003210</td>\n",
       "      <td>0.000372</td>\n",
       "      <td>0.002186</td>\n",
       "      <td>0.008393</td>\n",
       "      <td>0.019760</td>\n",
       "      <td>0.023583</td>\n",
       "      <td>-0.000614</td>\n",
       "      <td>0.025988</td>\n",
       "      <td>0.008842</td>\n",
       "      <td>...</td>\n",
       "      <td>0.007328</td>\n",
       "      <td>0.017725</td>\n",
       "      <td>0.002834</td>\n",
       "      <td>0.015369</td>\n",
       "      <td>0.003505</td>\n",
       "      <td>0.019871</td>\n",
       "      <td>0.008009</td>\n",
       "      <td>0.031154</td>\n",
       "      <td>0.006981</td>\n",
       "      <td>1466.47</td>\n",
       "    </tr>\n",
       "    <tr>\n",
       "      <th>3</th>\n",
       "      <td>0.002444</td>\n",
       "      <td>0.024200</td>\n",
       "      <td>0.006320</td>\n",
       "      <td>0.001008</td>\n",
       "      <td>-0.002421</td>\n",
       "      <td>-0.004363</td>\n",
       "      <td>0.002880</td>\n",
       "      <td>-0.002459</td>\n",
       "      <td>-0.008892</td>\n",
       "      <td>-0.011952</td>\n",
       "      <td>...</td>\n",
       "      <td>-0.002315</td>\n",
       "      <td>0.001102</td>\n",
       "      <td>-0.002826</td>\n",
       "      <td>0.002777</td>\n",
       "      <td>-0.001601</td>\n",
       "      <td>0.006586</td>\n",
       "      <td>0.001368</td>\n",
       "      <td>-0.019316</td>\n",
       "      <td>0.011885</td>\n",
       "      <td>1461.89</td>\n",
       "    </tr>\n",
       "    <tr>\n",
       "      <th>4</th>\n",
       "      <td>-0.001219</td>\n",
       "      <td>-0.018746</td>\n",
       "      <td>0.004802</td>\n",
       "      <td>-0.002786</td>\n",
       "      <td>0.029278</td>\n",
       "      <td>-0.001973</td>\n",
       "      <td>-0.003510</td>\n",
       "      <td>-0.009858</td>\n",
       "      <td>-0.007885</td>\n",
       "      <td>-0.001613</td>\n",
       "      <td>...</td>\n",
       "      <td>-0.000663</td>\n",
       "      <td>0.001982</td>\n",
       "      <td>-0.010076</td>\n",
       "      <td>0.004155</td>\n",
       "      <td>-0.001603</td>\n",
       "      <td>-0.019357</td>\n",
       "      <td>0.008325</td>\n",
       "      <td>-0.007576</td>\n",
       "      <td>-0.010767</td>\n",
       "      <td>1457.15</td>\n",
       "    </tr>\n",
       "    <tr>\n",
       "      <th>5</th>\n",
       "      <td>0.011475</td>\n",
       "      <td>0.011144</td>\n",
       "      <td>0.015196</td>\n",
       "      <td>0.066446</td>\n",
       "      <td>-0.001326</td>\n",
       "      <td>0.006570</td>\n",
       "      <td>0.011848</td>\n",
       "      <td>-0.007467</td>\n",
       "      <td>-0.002740</td>\n",
       "      <td>0.002019</td>\n",
       "      <td>...</td>\n",
       "      <td>0.008292</td>\n",
       "      <td>-0.000659</td>\n",
       "      <td>-0.017812</td>\n",
       "      <td>-0.004275</td>\n",
       "      <td>0.007299</td>\n",
       "      <td>0.006394</td>\n",
       "      <td>-0.002451</td>\n",
       "      <td>-0.001527</td>\n",
       "      <td>-0.007586</td>\n",
       "      <td>1461.02</td>\n",
       "    </tr>\n",
       "  </tbody>\n",
       "</table>\n",
       "<p>5 rows × 51 columns</p>\n",
       "</div>"
      ],
      "text/plain": [
       "        RJF       UHS      FISV       STX     DISCA     GOOGL      CBOE  \\\n",
       "1 -0.003502  0.003019 -0.007505 -0.017797  0.000764  0.000581  0.013276   \n",
       "2  0.026857  0.003210  0.000372  0.002186  0.008393  0.019760  0.023583   \n",
       "3  0.002444  0.024200  0.006320  0.001008 -0.002421 -0.004363  0.002880   \n",
       "4 -0.001219 -0.018746  0.004802 -0.002786  0.029278 -0.001973 -0.003510   \n",
       "5  0.011475  0.011144  0.015196  0.066446 -0.001326  0.006570  0.011848   \n",
       "\n",
       "         MO       HBI       CMS  ...       CAG       JPM       SYY       SLB  \\\n",
       "1  0.000615  0.016297  0.002821  ... -0.002326 -0.002015 -0.004389 -0.006723   \n",
       "2 -0.000614  0.025988  0.008842  ...  0.007328  0.017725  0.002834  0.015369   \n",
       "3 -0.002459 -0.008892 -0.011952  ... -0.002315  0.001102 -0.002826  0.002777   \n",
       "4 -0.009858 -0.007885 -0.001613  ... -0.000663  0.001982 -0.010076  0.004155   \n",
       "5 -0.007467 -0.002740  0.002019  ...  0.008292 -0.000659 -0.017812 -0.004275   \n",
       "\n",
       "        DLR       AVY       FLS        MS       TGT    SP500  \n",
       "1 -0.004072  0.007046  0.002039 -0.002039  0.022781  1459.37  \n",
       "2  0.003505  0.019871  0.008009  0.031154  0.006981  1466.47  \n",
       "3 -0.001601  0.006586  0.001368 -0.019316  0.011885  1461.89  \n",
       "4 -0.001603 -0.019357  0.008325 -0.007576 -0.010767  1457.15  \n",
       "5  0.007299  0.006394 -0.002451 -0.001527 -0.007586  1461.02  \n",
       "\n",
       "[5 rows x 51 columns]"
      ]
     },
     "execution_count": 11,
     "metadata": {},
     "output_type": "execute_result"
    }
   ],
   "source": [
    "df_random_asset.head(5)"
   ]
  },
  {
   "cell_type": "code",
   "execution_count": 12,
   "id": "7bb96932",
   "metadata": {},
   "outputs": [
    {
     "name": "stdout",
     "output_type": "stream",
     "text": [
      "shape of x_train :(1006, 50)\n",
      "shape of y_train :(1006, 1)\n",
      "shape of x_test :(252, 50)\n",
      "shape of y_test :(252, 1)\n"
     ]
    }
   ],
   "source": [
    "# Split the dataset into train (80%) and test(20%)\n",
    "x_train = split_df(df_random_asset)['x_train']\n",
    "print(f'shape of x_train :{x_train.shape}')\n",
    "\n",
    "y_train = split_df(df_random_asset)['y_train']\n",
    "print(f'shape of y_train :{y_train.shape}')\n",
    "\n",
    "x_test = split_df(df_random_asset)['x_test']\n",
    "print(f'shape of x_test :{x_test.shape}')\n",
    "\n",
    "y_test = split_df(df_random_asset)['y_test']\n",
    "print(f'shape of y_test :{y_test.shape}')"
   ]
  },
  {
   "cell_type": "markdown",
   "id": "1e79d292",
   "metadata": {},
   "source": [
    "# Loss Function"
   ]
  },
  {
   "cell_type": "code",
   "execution_count": 15,
   "id": "2b7a2717",
   "metadata": {},
   "outputs": [],
   "source": [
    "rb = tf.convert_to_tensor(np.array(split_df(df_random_asset)['y_train']), dtype = tf.float32)\n",
    "\n",
    "x = tf.convert_to_tensor(np.array(split_df(df_random_asset)['x_train']), dtype = tf.float32)\n",
    "\n",
    "\n",
    "\n",
    "def f(w, x = x ,rb = rb ):\n",
    "    \"\"\"\n",
    "        This function compute the loss\n",
    "        input :\n",
    "            x : 2 D arrays \n",
    "            rb : 1D array\n",
    "            w -> 1D arrays dim K = 50\n",
    "        output : loss\n",
    "    \"\"\"\n",
    "     \n",
    "    \n",
    "    loss = tf.constant(0 , dtype = tf.float32) # Inilizing loss function\n",
    "    L = x.shape[0] \n",
    "    lam = 0.0001\n",
    "\n",
    "    for i in range(L) :\n",
    "        loss += ((rb - tf.matmul(x, tf.transpose(w)))**2 + lam*tf.matmul(w, tf.transpose(w)))\n",
    "    return np.sum(loss)"
   ]
  },
  {
   "cell_type": "code",
   "execution_count": 16,
   "id": "6c150dca",
   "metadata": {},
   "outputs": [
    {
     "data": {
      "text/plain": [
       "3820138300000.0"
      ]
     },
     "execution_count": 16,
     "metadata": {},
     "output_type": "execute_result"
    }
   ],
   "source": [
    "# initialize weight w\n",
    "w = tf.Variable(initial_value = [[0.02]*50], dtype = tf.float32)\n",
    "#w = tf.convert_to_tensor(np.array([[0.2]*50]), dtype = tf.float64)\n",
    "#w = tf.Variable(tf.ones([1, 50], dtype=tf.float64))\n",
    "\n",
    "f(w)"
   ]
  },
  {
   "cell_type": "code",
   "execution_count": null,
   "id": "589cfc01",
   "metadata": {},
   "outputs": [],
   "source": []
  },
  {
   "cell_type": "markdown",
   "id": "64c0f6b0",
   "metadata": {},
   "source": [
    "# Gradient descent ???"
   ]
  },
  {
   "cell_type": "code",
   "execution_count": null,
   "id": "35b27b64",
   "metadata": {},
   "outputs": [],
   "source": [
    "N = 200\n",
    "\n",
    "learning_rate = 0.1\n",
    "\n",
    "optimizer = tf.keras.optimizers.SGD(learning_rate)\n",
    "\n",
    "\n",
    "w = tf.Variable(initial_value = [[0.2]*50], dtype = tf.float32, trainable=True)\n",
    "#x1=tf.Variable(4, dtype=tf.float32,trainable=True)\n",
    "\n",
    "\n",
    "for n in range(N):\n",
    "\n",
    "    with tf.GradientTape() as tape:\n",
    "\n",
    "        value=f(w)\n",
    "\n",
    "        gradient=tape.gradient(value,[w])\n",
    "\n",
    "        optimizer.apply_gradients(zip(gradient,[w]))\n",
    "        \n",
    "print(f'w={w.numpy()}')"
   ]
  },
  {
   "cell_type": "code",
   "execution_count": null,
   "id": "5fda7d01",
   "metadata": {},
   "outputs": [],
   "source": [
    "w = tf.Variable(initial_value = [[0.5]*50], dtype = tf.float32)\n",
    "w"
   ]
  },
  {
   "cell_type": "code",
   "execution_count": null,
   "id": "2f939fef",
   "metadata": {},
   "outputs": [],
   "source": []
  },
  {
   "cell_type": "markdown",
   "id": "a6813d52",
   "metadata": {},
   "source": [
    "# Model"
   ]
  },
  {
   "cell_type": "markdown",
   "id": "49649edc",
   "metadata": {},
   "source": [
    "We seek to determine the weights w such that :\n",
    "\n",
    "$ f(w) = \\sum_{k=1}^{K} w_k X_{kt} = W^T X = X_{t}^{b} $\n"
   ]
  },
  {
   "cell_type": "code",
   "execution_count": 90,
   "id": "4057a3ad",
   "metadata": {},
   "outputs": [],
   "source": [
    "class Model:\n",
    "    def __init__(self, learning_rate = 0.001, iters = 20):\n",
    "        self.learning_rate = learning_rate\n",
    "        self.iters = iters\n",
    "        self.weights = None\n",
    "        self.w = tf.Variable(initial_value = [[0.2]*50], dtype = tf.float32)\n",
    "        \n",
    "    def __call__(self, X):\n",
    "        x = tf.convert_to_tensor(X, dtype = tf.float32)\n",
    "        y_est = tf.matmul(self.w , tf.transpose(x))\n",
    "        \n",
    "        return y_est\n",
    "    \n",
    "    \n",
    "    \n",
    "    def loss_funct(w, x,rb ):\n",
    "        \"\"\"\n",
    "            This function compute the loss\n",
    "            input :\n",
    "                x : 2 D arrays (dependant variable)\n",
    "                rb : 1D array (y_predite)\n",
    "                w -> 1D arrays dim K = 50 (weights)\n",
    "            output : loss\n",
    "        \"\"\"\n",
    "        loss = tf.constant(0 , dtype = tf.float32) # Inilizing loss function \n",
    "        L = x.shape[0] # L = 50 Numbers of assets\n",
    "        lam = 0.0001\n",
    "\n",
    "\n",
    "\n",
    "        for i in range(L) :\n",
    "            loss += ((rb - tf.matmul(x, tf.transpose(w)))**2 + lam*tf.matmul(w, tf.transpose(w)))\n",
    "        return np.sum(loss)\n",
    "    \n",
    "model = Model()"
   ]
  },
  {
   "cell_type": "code",
   "execution_count": 91,
   "id": "e89ce285",
   "metadata": {},
   "outputs": [
    {
     "data": {
      "text/plain": [
       "<tf.Tensor: shape=(1, 1006), dtype=float32, numpy=\n",
       "array([[ 0.00326998,  0.10093625, -0.02280224, ...,  0.02953928,\n",
       "        -0.08914218,  0.00653147]], dtype=float32)>"
      ]
     },
     "execution_count": 91,
     "metadata": {},
     "output_type": "execute_result"
    }
   ],
   "source": [
    "model(x)"
   ]
  },
  {
   "cell_type": "code",
   "execution_count": 93,
   "id": "2f2bc757",
   "metadata": {},
   "outputs": [],
   "source": [
    "def train(model, inputs, outputs, learning_rate):\n",
    "    y_true = tf.convert_to_tensor(output)\n",
    "    \n",
    "    \n",
    "    #GradientTape\n",
    "    with tf.GrdientTape() as g:\n",
    "        y_pred = model(inputs)\n",
    "        current_loss = loss_func(y_true, y_pred)\n",
    "        \n",
    "        dw = g.gradient(current_loss, [model.w])\n",
    "        # update\n",
    "        model.w.assign_sub(dw*learning_rate)"
   ]
  },
  {
   "cell_type": "code",
   "execution_count": 94,
   "id": "1374fac7",
   "metadata": {},
   "outputs": [
    {
     "data": {
      "text/plain": [
       "<tf.Tensor: shape=(1, 1006), dtype=float32, numpy=\n",
       "array([[ 0.00326998,  0.10093625, -0.02280224, ...,  0.02953928,\n",
       "        -0.08914218,  0.00653147]], dtype=float32)>"
      ]
     },
     "execution_count": 94,
     "metadata": {},
     "output_type": "execute_result"
    }
   ],
   "source": [
    "model(x)"
   ]
  },
  {
   "cell_type": "code",
   "execution_count": null,
   "id": "0a1c1511",
   "metadata": {},
   "outputs": [],
   "source": []
  },
  {
   "cell_type": "code",
   "execution_count": null,
   "id": "24f36598",
   "metadata": {},
   "outputs": [],
   "source": [
    "class model:\n",
    "    def __init__(self, learning_rate = 0.001, iters = 20):\n",
    "        self.learning_rate = learning_rate\n",
    "        self.iters == iters\n",
    "        self.weights = None\n",
    "        \n",
    "    def fit(self, X, y):\n",
    "        # shape of the matix X\n",
    "        n_samples, n_features = X.shape\n",
    "        \n",
    "        # init weights\n",
    "        weights = np.zeros(n_features)\n",
    "        \n",
    "    \n",
    "    def predict(self, X):\n",
    "        output = np.dot(X, self.weights)\n",
    "        return output"
   ]
  },
  {
   "cell_type": "code",
   "execution_count": null,
   "id": "741f08d8",
   "metadata": {},
   "outputs": [],
   "source": [
    "N = 200\n",
    "\n",
    "learning_rate = 0.1\n",
    "\n",
    "optimizer = tf.keras.optimizers.SGD(learning_rate)\n",
    "\n",
    "w = np.array([[4.0]*50]) # Inilizing the weights w as array of dim len x_train\n",
    "\n",
    "\n",
    "for n in range(N):\n",
    "\n",
    "    with tf.GradientTape() as tape:\n",
    "\n",
    "        value=fu(w)\n",
    "\n",
    "        gradient=tape.gradient(value,[w])\n",
    "\n",
    "        optimizer.apply_gradients(zip(gradient,[w]))\n",
    "        \n"
   ]
  },
  {
   "cell_type": "code",
   "execution_count": null,
   "id": "f33100cb",
   "metadata": {},
   "outputs": [],
   "source": []
  },
  {
   "cell_type": "code",
   "execution_count": null,
   "id": "bd7c3639",
   "metadata": {},
   "outputs": [],
   "source": []
  },
  {
   "cell_type": "code",
   "execution_count": null,
   "id": "a9fe6bfd",
   "metadata": {},
   "outputs": [],
   "source": []
  },
  {
   "cell_type": "code",
   "execution_count": 124,
   "id": "ee885baf",
   "metadata": {},
   "outputs": [],
   "source": []
  },
  {
   "cell_type": "code",
   "execution_count": null,
   "id": "e6ca9ae3",
   "metadata": {},
   "outputs": [],
   "source": []
  },
  {
   "cell_type": "code",
   "execution_count": 98,
   "id": "92310088",
   "metadata": {},
   "outputs": [],
   "source": []
  },
  {
   "cell_type": "code",
   "execution_count": null,
   "id": "f46608aa",
   "metadata": {},
   "outputs": [],
   "source": []
  },
  {
   "cell_type": "code",
   "execution_count": null,
   "id": "1d70b07d",
   "metadata": {},
   "outputs": [],
   "source": []
  },
  {
   "cell_type": "code",
   "execution_count": null,
   "id": "f26455ea",
   "metadata": {},
   "outputs": [],
   "source": []
  },
  {
   "cell_type": "code",
   "execution_count": null,
   "id": "30395070",
   "metadata": {},
   "outputs": [],
   "source": []
  },
  {
   "cell_type": "code",
   "execution_count": 40,
   "id": "b05931d0",
   "metadata": {},
   "outputs": [],
   "source": []
  },
  {
   "cell_type": "code",
   "execution_count": null,
   "id": "4cb120ff",
   "metadata": {},
   "outputs": [],
   "source": []
  },
  {
   "cell_type": "code",
   "execution_count": null,
   "id": "f1dacddb",
   "metadata": {},
   "outputs": [],
   "source": []
  },
  {
   "cell_type": "code",
   "execution_count": null,
   "id": "0bdc8752",
   "metadata": {},
   "outputs": [],
   "source": [
    "\n",
    "    "
   ]
  },
  {
   "cell_type": "code",
   "execution_count": null,
   "id": "0769c06b",
   "metadata": {},
   "outputs": [],
   "source": []
  },
  {
   "cell_type": "code",
   "execution_count": null,
   "id": "8059ac87",
   "metadata": {},
   "outputs": [],
   "source": []
  },
  {
   "cell_type": "code",
   "execution_count": null,
   "id": "26b37cf0",
   "metadata": {},
   "outputs": [],
   "source": []
  },
  {
   "cell_type": "code",
   "execution_count": null,
   "id": "6aa57207",
   "metadata": {},
   "outputs": [],
   "source": []
  },
  {
   "cell_type": "code",
   "execution_count": null,
   "id": "da49c175",
   "metadata": {},
   "outputs": [],
   "source": []
  },
  {
   "cell_type": "code",
   "execution_count": null,
   "id": "8be29943",
   "metadata": {},
   "outputs": [],
   "source": []
  },
  {
   "cell_type": "code",
   "execution_count": null,
   "id": "6defea45",
   "metadata": {},
   "outputs": [],
   "source": []
  },
  {
   "cell_type": "code",
   "execution_count": null,
   "id": "c99277af",
   "metadata": {},
   "outputs": [],
   "source": []
  },
  {
   "cell_type": "code",
   "execution_count": null,
   "id": "3db8d082",
   "metadata": {},
   "outputs": [],
   "source": []
  }
 ],
 "metadata": {
  "kernelspec": {
   "display_name": "Python 3 (ipykernel)",
   "language": "python",
   "name": "python3"
  },
  "language_info": {
   "codemirror_mode": {
    "name": "ipython",
    "version": 3
   },
   "file_extension": ".py",
   "mimetype": "text/x-python",
   "name": "python",
   "nbconvert_exporter": "python",
   "pygments_lexer": "ipython3",
   "version": "3.9.7"
  }
 },
 "nbformat": 4,
 "nbformat_minor": 5
}
